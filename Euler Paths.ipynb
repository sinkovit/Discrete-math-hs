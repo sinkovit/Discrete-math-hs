{
 "cells": [
  {
   "cell_type": "code",
   "execution_count": 2,
   "metadata": {},
   "outputs": [],
   "source": [
    "# Import networkx to create graphs and motplotlib to graph\n",
    "import networkx as nx\n",
    "import matplotlib.pyplot as plt\n",
    "from numpy import random\n",
    "\n",
    "# Import interact for user input\n",
    "from ipywidgets import widgets\n",
    "from ipywidgets import interact, IntSlider\n",
    "from IPython.display import display"
   ]
  },
  {
   "cell_type": "code",
   "execution_count": 4,
   "metadata": {},
   "outputs": [
    {
     "ename": "SyntaxError",
     "evalue": "invalid syntax (<ipython-input-4-01b9acb6098e>, line 9)",
     "output_type": "error",
     "traceback": [
      "\u001b[1;36m  File \u001b[1;32m\"<ipython-input-4-01b9acb6098e>\"\u001b[1;36m, line \u001b[1;32m9\u001b[0m\n\u001b[1;33m    if nx.is_eulerian(non_directed_graph):\u001b[0m\n\u001b[1;37m                                         ^\u001b[0m\n\u001b[1;31mSyntaxError\u001b[0m\u001b[1;31m:\u001b[0m invalid syntax\n"
     ]
    }
   ],
   "source": [
    "# generate a random directed graph\n",
    "\n",
    "def create_barabasi_albert(rand_max):\n",
    "    # randomly generate the nodes and edges numbers\n",
    "#     rand_num_nodes = random.randint(2, rand_max)\n",
    "#     rand_num_edges = random.randint(1, rand_num_nodes)\n",
    "    # create a random barabasi albert graph\n",
    "    non_directed_graph = nx.barabasi_albert_graph(rand_max, rand_max)\n",
    "    if nx.is_eulerian(non_directed_graph):\n",
    "        # create directed version of barabasi albert\n",
    "        eulerized = nx.eulerize(non_directed_graph)\n",
    "        di_euler_graph = nx.DiGraph()\n",
    "        di_euler_graph.add_nodes_from(eulerized)\n",
    "        di_euler_graph.add_edges_from(nx.eulerian_circuit(eulerized))\n",
    "        color_map = ['green' if node == 0 else 'red' for node in di_euler_graph]\n",
    "        nx.draw(di_euler_graph, node_color = color_map, with_labels=True, font_weight='bold')\n",
    "        print(\"Is Eulerian?: \" + str(nx.is_eulerian(di_euler_graph)))\n",
    "    else:\n",
    "        print(\"Is Eulerian?: \" + str(nx.is_eulerian(non_directed_graph)))\n",
    "\n",
    "def create_erdos_renyi(rand_max):\n",
    "    # randomly generate the nodes and edge probability\n",
    "    rand_num_nodes = random.randint(1, rand_max)\n",
    "    rand_prob = random.random()\n",
    "    # create a random erdos renyi graph\n",
    "    non_directed_graph = nx.erdos_renyi_graph(rand_max, 0.9)\n",
    "    if nx.is_eulerian(non_directed_graph):\n",
    "        # create directed version of barabasi albert\n",
    "        eulerized = nx.eulerize(non_directed_graph)\n",
    "        di_euler_graph = nx.DiGraph()\n",
    "        di_euler_graph.add_nodes_from(eulerized)\n",
    "        di_euler_graph.add_edges_from(nx.eulerian_circuit(eulerized))\n",
    "        color_map = ['green' if node == 0 else 'red' for node in di_euler_graph]\n",
    "        nx.draw(di_euler_graph, node_color = color_map, with_labels=True, font_weight='bold')\n",
    "        print(\"Is Eulerian?: \" + str(nx.is_eulerian(di_euler_graph)))\n",
    "    else:\n",
    "        print(\"Is Eulerian?: \" + str(nx.is_eulerian(non_directed_graph)))\n",
    "    \n",
    "def create_watts_strogatz_graph(rand_max):\n",
    "    # randomly generate the nodes and edge probability\n",
    "    rand_num_nodes = random.randint(3, rand_max)\n",
    "    rand_neighbors = 0\n",
    "    if rand_num_nodes > 3:\n",
    "        rand_neighbors = random.randint(2, rand_num_nodes-1)\n",
    "    else:\n",
    "        rand_neighbors = 2\n",
    "    rand_prob = random.random()\n",
    "    # create a random erdos renyi graph\n",
    "    non_directed_graph = nx.watts_strogatz_graph(rand_num_nodes, rand_neighbors, rand_prob)\n",
    "    if nx.is_eulerian(non_directed_graph):\n",
    "        # create directed version of barabasi albert\n",
    "        eulerized = nx.eulerize(non_directed_graph)\n",
    "        di_euler_graph = nx.DiGraph()\n",
    "        di_euler_graph.add_nodes_from(eulerized)\n",
    "        di_euler_graph.add_edges_from(nx.eulerian_circuit(eulerized))\n",
    "        color_map = ['green' if node == 0 else 'red' for node in di_euler_graph]\n",
    "        nx.draw(di_euler_graph, node_color = color_map, with_labels=True, font_weight='bold')\n",
    "        print(\"Is Eulerian?: \" + str(nx.is_eulerian(di_euler_graph)))\n",
    "    else:\n",
    "        print(\"Is Eulerian?: \" + str(nx.is_eulerian(non_directed_graph)))\n",
    "        \n",
    "def choose_graph(function):\n",
    "    if function == 'Babarasi Albert':\n",
    "        interact(create_barabasi_albert, rand_max=[('5', 5), ('10', 10), ('25', 25)])\n",
    "    elif function == 'Erdos Renyi':\n",
    "        interact(create_erdos_renyi, rand_max=[('5', 5), ('10', 15), ('15', 15)])\n",
    "    elif function == 'Watts Strogatz':\n",
    "        interact(create_watts_strogatz_graph, rand_max=[('5', 5), ('10', 10), ('25', 25)])\n",
    "\n",
    "interact(choose_graph, function=['Babarasi Albert', 'Erdos Renyi', 'Watts Strogatz'])"
   ]
  },
  {
   "cell_type": "code",
   "execution_count": 17,
   "metadata": {},
   "outputs": [],
   "source": [
    "# import a previous euler path\n"
   ]
  },
  {
   "cell_type": "code",
   "execution_count": null,
   "metadata": {},
   "outputs": [],
   "source": []
  }
 ],
 "metadata": {
  "kernelspec": {
   "display_name": "Python 3",
   "language": "python",
   "name": "python3"
  },
  "language_info": {
   "codemirror_mode": {
    "name": "ipython",
    "version": 3
   },
   "file_extension": ".py",
   "mimetype": "text/x-python",
   "name": "python",
   "nbconvert_exporter": "python",
   "pygments_lexer": "ipython3",
   "version": "3.7.1"
  }
 },
 "nbformat": 4,
 "nbformat_minor": 2
}
