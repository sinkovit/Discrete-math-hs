{
 "cells": [
  {
   "cell_type": "markdown",
   "metadata": {},
   "source": [
    "# Die roll basics"
   ]
  },
  {
   "cell_type": "markdown",
   "metadata": {},
   "source": [
    "When rolling a fair die, we expect certain outcomes. Although we know that the outcome of a single roll is random, we anticipate that for a large number of rolls, each number should come up with the same frequency. We would also be surprised if we encountered long runs of the same number, such as six 2's in a row. In this exercise we'll explore these assumptions."
   ]
  },
  {
   "cell_type": "code",
   "execution_count": 1,
   "metadata": {},
   "outputs": [
    {
     "data": {
      "text/plain": [
       "'module://ipykernel.pylab.backend_inline'"
      ]
     },
     "execution_count": 1,
     "metadata": {},
     "output_type": "execute_result"
    }
   ],
   "source": [
    "# Loading modules and setting up environment\n",
    "%matplotlib inline\n",
    "import matplotlib as mpl\n",
    "import matplotlib.pyplot as plt\n",
    "import numpy as np\n",
    "from collections import Counter\n",
    "from collections import OrderedDict\n",
    "\n",
    "# Load Widgets for GUI\n",
    "from ipywidgets import widgets\n",
    "from ipywidgets import interact, IntSlider\n",
    "from IPython.display import display\n",
    "\n",
    "mpl.get_backend()"
   ]
  },
  {
   "cell_type": "markdown",
   "metadata": {},
   "source": [
    "Generate 1000 rolls of a fair die"
   ]
  },
  {
   "cell_type": "code",
   "execution_count": 2,
   "metadata": {},
   "outputs": [],
   "source": [
    "rolls = np.random.randint(1,7,1000)"
   ]
  },
  {
   "cell_type": "markdown",
   "metadata": {},
   "source": [
    "Take a look at the first 100 rolls"
   ]
  },
  {
   "cell_type": "code",
   "execution_count": 3,
   "metadata": {},
   "outputs": [
    {
     "data": {
      "text/plain": [
       "array([1, 3, 5, 1, 3, 3, 1, 1, 3, 5, 5, 2, 5, 1, 5, 6, 1, 5, 6, 3, 5, 1,\n",
       "       5, 1, 6, 4, 6, 3, 5, 5, 2, 3, 4, 2, 4, 3, 5, 1, 5, 4, 4, 4, 2, 6,\n",
       "       5, 2, 6, 4, 1, 4, 4, 2, 5, 3, 5, 4, 4, 4, 2, 3, 6, 5, 6, 5, 5, 3,\n",
       "       4, 1, 4, 4, 1, 6, 1, 5, 2, 5, 5, 5, 2, 3, 1, 4, 6, 1, 3, 6, 1, 4,\n",
       "       1, 2, 4, 4, 4, 3, 4, 6, 4, 6, 1])"
      ]
     },
     "execution_count": 3,
     "metadata": {},
     "output_type": "execute_result"
    }
   ],
   "source": [
    "rolls[0:99]"
   ]
  },
  {
   "cell_type": "markdown",
   "metadata": {},
   "source": [
    "Show how many times each number appears"
   ]
  },
  {
   "cell_type": "code",
   "execution_count": 4,
   "metadata": {},
   "outputs": [
    {
     "data": {
      "text/plain": [
       "Counter({6: 181, 4: 169, 3: 154, 1: 155, 2: 182, 5: 159})"
      ]
     },
     "execution_count": 4,
     "metadata": {},
     "output_type": "execute_result"
    }
   ],
   "source": [
    "Counter(rolls)"
   ]
  },
  {
   "cell_type": "markdown",
   "metadata": {},
   "source": [
    "We'll now look a little deeper at the behavior of our fair die. Experiment with the number of rolls (nrolls) and number of sides on the die and look for trends in the variance in how frequently each number occurs."
   ]
  },
  {
   "cell_type": "code",
   "execution_count": 12,
   "metadata": {},
   "outputs": [
    {
     "data": {
      "application/vnd.jupyter.widget-view+json": {
       "model_id": "01422327051b43af951974ed6b4bded7",
       "version_major": 2,
       "version_minor": 0
      },
      "text/plain": [
       "interactive(children=(Dropdown(description='range', options=(('100', 100), ('1000', 1000), ('100000', 100000),…"
      ]
     },
     "metadata": {},
     "output_type": "display_data"
    }
   ],
   "source": [
    "# nrolls = number of rolls, nsides = number of sides on die\n",
    "\n",
    "\n",
    "def roll_dice(rolls, sides):\n",
    "    global nrolls\n",
    "    global nsides\n",
    "    nrolls = rolls\n",
    "    nsides = sides\n",
    "\n",
    "    rolls = np.random.randint(1,nsides+1,nrolls)\n",
    "    od = OrderedDict(sorted(Counter(rolls).items()))\n",
    "    print('Minimum times a number is rolled:', min(od.values()))\n",
    "    print('Maximum times a number is rolled:', max(od.values()))\n",
    "    print('Ratio of min/max:', min(od.values())/max(od.values()))\n",
    "    print('Difference max - min:', max(od.values()) - min(od.values()))\n",
    "\n",
    "    pips = od.keys()\n",
    "    counts = od.values()\n",
    "\n",
    "    f, ax = plt.subplots()\n",
    "    x_pos = np.arange(len(pips))\n",
    "    ax.bar(x_pos, counts, align='center')\n",
    "    ax.set_xticks(x_pos)\n",
    "    ax.set_xticklabels(pips)\n",
    "    ax.set_ylabel('Die rolls binned by pip value')\n",
    "    ax.set_title('Die result counts')\n",
    "    plt.show()\n",
    "    \n",
    "# Second function to incorporate range for slider, user-iput slider  \n",
    "def roll_with_range(range):\n",
    "    if range <= 100:\n",
    "        interact(roll_dice, rolls=IntSlider(min=1, max=range, step=1,continuous_update=False),\\\n",
    "                 sides=IntSlider(min=1,max=20,step=1,continuous_update=False)); \n",
    "    elif range <= 1000:\n",
    "        interact(roll_dice, rolls=IntSlider(min=10, max=range, step=10,continuous_update=False),\\\n",
    "                 sides=IntSlider(min=1,max=20,step=1,continuous_update=False));\n",
    "    else:\n",
    "        interact(roll_dice, rolls=IntSlider(min=1000, max=range, step=1000,continuous_update=False),\\\n",
    "                 sides=IntSlider(min=1,max=20,step=1,continuous_update=False));\n",
    "\n",
    "# User-input dropdown        \n",
    "interact(roll_with_range, range=[('100', 100), ('1000', 1000), ('100000', 100000), ('1000000', 1000000)]);"
   ]
  },
  {
   "cell_type": "markdown",
   "metadata": {},
   "source": [
    "Next, we'll look for the longest streak in sequence of rolls and how the length of the streak depends on the number of rolls and numbers of sides on the die."
   ]
  },
  {
   "cell_type": "code",
   "execution_count": 14,
   "metadata": {},
   "outputs": [
    {
     "name": "stdout",
     "output_type": "stream",
     "text": [
      "[2]\n"
     ]
    }
   ],
   "source": [
    "\n",
    "rolls = np.random.randint(1,nsides+1,nrolls)\n",
    "\n",
    "run = []\n",
    "longest_run = []\n",
    "previous = 0\n",
    "\n",
    "for outcome in rolls:\n",
    "    if outcome == previous:\n",
    "        run.append(outcome)\n",
    "    else:\n",
    "        if len(run) > len(longest_run):\n",
    "            longest_run = run\n",
    "        run = [outcome]\n",
    "    previous = outcome\n",
    "    \n",
    "\n",
    "print(longest_run)"
   ]
  },
  {
   "cell_type": "code",
   "execution_count": null,
   "metadata": {},
   "outputs": [],
   "source": []
  },
  {
   "cell_type": "code",
   "execution_count": null,
   "metadata": {},
   "outputs": [],
   "source": []
  }
 ],
 "metadata": {
  "kernelspec": {
   "display_name": "Python 3",
   "language": "python",
   "name": "python3"
  },
  "language_info": {
   "codemirror_mode": {
    "name": "ipython",
    "version": 3
   },
   "file_extension": ".py",
   "mimetype": "text/x-python",
   "name": "python",
   "nbconvert_exporter": "python",
   "pygments_lexer": "ipython3",
   "version": "3.7.1"
  }
 },
 "nbformat": 4,
 "nbformat_minor": 2
}
