{
 "cells": [
  {
   "cell_type": "markdown",
   "metadata": {},
   "source": [
    "# Substitution cipher"
   ]
  },
  {
   "cell_type": "markdown",
   "metadata": {},
   "source": [
    "In this exercise, we'll explore one of the most basic problems in cryptography - cracking the code of a simple substitution cipher in which each letter of the alphabet is replaced by another. Although modern cryptography uses much more complex techniques, this illustrates some of the key statistical issues such as the use of word and letter frequencies."
   ]
  },
  {
   "cell_type": "code",
   "execution_count": null,
   "metadata": {},
   "outputs": [],
   "source": [
    "from collections import OrderedDict\n",
    "from collections import Counter\n",
    "import string\n",
    "import re\n",
    "import numpy as np"
   ]
  },
  {
   "cell_type": "markdown",
   "metadata": {},
   "source": [
    "Define a table of letter usage frequency. We'll use this later"
   ]
  },
  {
   "cell_type": "code",
   "execution_count": null,
   "metadata": {},
   "outputs": [],
   "source": [
    "english_letter_freq = OrderedDict({'z': 0.00074, 'q': 0.00095, 'x': 0.00150, 'j': 0.00153, 'k': 0.00772,\n",
    " 'v': 0.00978, 'b': 0.01492, 'p': 0.01929, 'y': 0.01974, 'g': 0.02015,\n",
    " 'f': 0.02228, 'w': 0.02360, 'm': 0.02406, 'u': 0.02758, 'c': 0.02782,\n",
    " 'l': 0.04025, 'd': 0.04253, 'r': 0.05987, 'h': 0.06094, 's': 0.06327,\n",
    " 'n': 0.06749, 'i': 0.06966, 'o': 0.07507, 'a': 0.08167, 't': 0.09056,\n",
    " 'e': 0.12702})\n",
    "english_letter_order = ''.join(english_letter_freq.keys())\n",
    "print('English letters ordered from least to most common:', english_letter_order)"
   ]
  },
  {
   "cell_type": "markdown",
   "metadata": {},
   "source": [
    "Read in the full text of Frankenstein. For convenience, we're going to convert all upper case letters to lower case."
   ]
  },
  {
   "cell_type": "code",
   "execution_count": null,
   "metadata": {},
   "outputs": [],
   "source": [
    "with open('Frankenstein.txt', 'rt') as file:  \n",
    "#with open('TheTimeMachine.txt', 'rt') as file:  \n",
    "\n",
    "    orig_text = file.read()\n",
    "    \n",
    "orig_text = orig_text.lower()\n",
    "print(orig_text)"
   ]
  },
  {
   "cell_type": "markdown",
   "metadata": {},
   "source": [
    "We now create our code, where one set of letters substitutes for another. We'll do this by taking the 26 lower case letters and scrambling them into a random order. Note that we're setting the seed for the random number generator so that we get the same results every time. To generate different codes, either change the seed or comment out the np.random.seed line.\n",
    "\n",
    "As a simplification, we only apply the substituion cypher to the letters a-z and leave numbers, abbreviations and whitespace unchanged."
   ]
  },
  {
   "cell_type": "code",
   "execution_count": null,
   "metadata": {},
   "outputs": [],
   "source": [
    "intab = string.ascii_lowercase\n",
    "np.random.seed(12345678)\n",
    "scrambled = np.random.permutation(list(intab))\n",
    "outtab = ''.join(scrambled)\n",
    "trantab_forward = str.maketrans(intab, outtab)\n",
    "trantab_backward = str.maketrans(outtab, intab)\n",
    "\n",
    "print('Original letters  :', intab)\n",
    "print('Encrypted letters :', outtab)"
   ]
  },
  {
   "cell_type": "markdown",
   "metadata": {},
   "source": [
    "Next, we use the code to translate the original text into the secret text."
   ]
  },
  {
   "cell_type": "code",
   "execution_count": null,
   "metadata": {},
   "outputs": [],
   "source": [
    "encrypted_text = orig_text.translate(trantab_forward)\n",
    "print(encrypted_text)"
   ]
  },
  {
   "cell_type": "markdown",
   "metadata": {},
   "source": [
    "If we did everything correctly, we can reverse the process and recover the original text."
   ]
  },
  {
   "cell_type": "code",
   "execution_count": null,
   "metadata": {},
   "outputs": [],
   "source": [
    "print(encrypted_text.translate(trantab_backward))"
   ]
  },
  {
   "cell_type": "markdown",
   "metadata": {},
   "source": [
    "As a first pass, we'll go through the text, get rid of everything that is not one of the letters a-z and count the letter frequency. The first line uses an intermediate Python feature called regular expressions to strip out the characters we don't want."
   ]
  },
  {
   "cell_type": "code",
   "execution_count": null,
   "metadata": {},
   "outputs": [],
   "source": [
    "encrypted_atoz = re.sub(r'[^a-z]', '', encrypted_text)\n",
    "\n",
    "encrypted_letter_freq = Counter(list(encrypted_atoz))\n",
    "print('Letter usage in encrypted text')\n",
    "print(Counter(list(encrypted_atoz)), '\\n')\n",
    "encrypted_letter_order = ''.join(sorted(encrypted_letter_freq, key=encrypted_letter_freq.get))\n",
    "\n",
    "print('Letters ordered by usage from least to most common')\n",
    "print('English   :', english_letter_order)\n",
    "print('Encrypted :', encrypted_letter_order)"
   ]
  },
  {
   "cell_type": "markdown",
   "metadata": {},
   "source": [
    "Assuming that the letter usage in our text matches that in our frequency table, we should be all done. Let's apply our results and see if we recover our original text."
   ]
  },
  {
   "cell_type": "code",
   "execution_count": null,
   "metadata": {},
   "outputs": [],
   "source": [
    "trantab = str.maketrans(encrypted_letter_order, english_letter_order)\n",
    "print(encrypted_text.translate(trantab))"
   ]
  },
  {
   "cell_type": "markdown",
   "metadata": {},
   "source": [
    "Something doesn't look quite right. We've definitely made progress with cracking the substitution code and some words are recognizeable. It appears that we've at least correctly identified the most common letters, but there's still a lot of garbled text.\n",
    "\n",
    "As a next step, we'll take advantage of another property of the English language - the frequent use of the word 'the'. In fact 'the' occurs twice as often than 'and' the second most common 3-letter word.\n",
    "\n",
    "A key advantage of identifying the word 'the' is that it helps us with the assignment of the letter h, which can be challenging since h and r appear with nearly identical frequency (h = 6.094%, r = 5.987%).\n",
    "\n",
    "Before we update our solution to the cipher, we should be confident that we've correctly identified 'the'. Fortunately, the last letter (e) and first letter (t) are the first and second most common letters in English text and our letter frequency analysis will almost certainly identiofy them correctly."
   ]
  },
  {
   "cell_type": "code",
   "execution_count": null,
   "metadata": {},
   "outputs": [],
   "source": [
    "# The letters h and r occur with nearly the same frequency and are frequently reversed. \n",
    "# We can identify h, along with t and e, by finding the most common word in the English\n",
    "# language 'the'\n",
    "\n",
    "# The letter corresponding to h in the encrypted text should be in position 18 in the\n",
    "# secret_letter_order string (remember, first position is 0). If it occurs in the\n",
    "# wrong position, swap with letter in position 18\n",
    "\n",
    "encrypted_letter_order_v2 = encrypted_letter_order\n",
    "\n",
    "most_common_word = Counter(encrypted_text.split()).most_common(1)\n",
    "encrypted_t = most_common_word[0][0][0]\n",
    "encrypted_h = most_common_word[0][0][1]\n",
    "encrypted_e = most_common_word[0][0][2]\n",
    "\n",
    "# Find location of t in the encrypted letter order\n",
    "pos_encrypted_t = encrypted_letter_order.find(encrypted_t)\n",
    "print('Location of t in encrypted letter order :', pos_encrypted_t)\n",
    "\n",
    "# Find location of h in the encrypted letter order\n",
    "pos_encrypted_h = encrypted_letter_order.find(encrypted_h)\n",
    "print('Location of h in encrypted letter order :', pos_encrypted_h)\n",
    "\n",
    "# Find location of e in the encrypted letter order\n",
    "pos_encrypted_e = encrypted_letter_order.find(encrypted_e)\n",
    "print('Location of e in encrypted letter order :', pos_encrypted_e)\n",
    "\n",
    "if pos_encrypted_t != 24 or pos_encrypted_e != 25:\n",
    "    print(\"\\nMisidentified 'the'\\n\")\n",
    "else:\n",
    "    print(\"\\nIdentified 'the' with high confidence\\n\")\n",
    "    if pos_encrypted_h != 18:\n",
    "        print(\"h was in wrong location\\n\")\n",
    "        templist = list(encrypted_letter_order)\n",
    "        templist[pos_encrypted_h], templist[18] = templist[18], templist[pos_encrypted_h]\n",
    "        encrypted_letter_order_v2 = ''.join(templist)\n",
    "    else:\n",
    "        print(\"h was in correct location\\n\")\n",
    "\n",
    "print('English     :', english_letter_order)\n",
    "print('Encrypted   :', encrypted_letter_order)\n",
    "print('Encrypted v2:', encrypted_letter_order_v2)"
   ]
  },
  {
   "cell_type": "code",
   "execution_count": null,
   "metadata": {},
   "outputs": [],
   "source": [
    "trantab = str.maketrans(encrypted_letter_order_v2, english_letter_order)\n",
    "print(encrypted_text.translate(trantab))"
   ]
  },
  {
   "cell_type": "markdown",
   "metadata": {},
   "source": [
    "Our experience with 'the' drives home the limitations of relying purely on letter frequency. Too many of the letters have frequencies that are nearly indistiguishable. The situation is complicated by the choice of text used to derive the letter frequencies since there may be subtle changes over time.\n",
    "\n",
    "In addition to letter frequencies and word frequencies, we can make use of the relative frequencies with which letters appear as the first letter in a word. Although this doesn't give us much progress on cracking our code, the letters z, q, x and j present an interesting case. All four of these appear with low frequencies (0.074%, 0.095%, 0.150% and 0.153% respectively) and there's a significant gap between the frequency of j and that of the k (0.772%), the next letter in order of frequency. As a result, these four letters normally occupy the first four spots but with the order often scrambled, especially for z/q and x/j. They can be distinguished though by their frequency as first letter in a word."
   ]
  },
  {
   "cell_type": "markdown",
   "metadata": {},
   "source": [
    "## Progress break"
   ]
  },
  {
   "cell_type": "markdown",
   "metadata": {},
   "source": [
    "At this point, we need to take advantage of other properties of English, such as the frequency of double letters, frequency of first letters or common two-letter words. Here are some links with useful information\n",
    "\n",
    "https://blogs.sas.com/content/iml/2014/10/03/double-letter-bigrams.html  \n",
    "https://www3.nd.edu/~busiforc/handouts/cryptography/cryptography%20hints.html\n",
    "https://en.wikipedia.org/wiki/Letter_frequency"
   ]
  },
  {
   "cell_type": "code",
   "execution_count": null,
   "metadata": {},
   "outputs": [],
   "source": []
  },
  {
   "cell_type": "code",
   "execution_count": null,
   "metadata": {},
   "outputs": [],
   "source": [
    "# Calculate the first letter frequency\n",
    "\n",
    "encrypted_words = encrypted_text.split()\n",
    "for i, word in enumerate(encrypted_words):\n",
    "    encrypted_words[i] = word[0]\n",
    "    \n",
    "Counter(encrypted_words)\n"
   ]
  },
  {
   "cell_type": "code",
   "execution_count": null,
   "metadata": {},
   "outputs": [],
   "source": [
    "print(encrypted_letter_order_v2.translate(trantab_backward))\n",
    "print(english_letter_order)"
   ]
  },
  {
   "cell_type": "code",
   "execution_count": null,
   "metadata": {},
   "outputs": [],
   "source": []
  }
 ],
 "metadata": {
  "kernelspec": {
   "display_name": "Python 3",
   "language": "python",
   "name": "python3"
  },
  "language_info": {
   "codemirror_mode": {
    "name": "ipython",
    "version": 3
   },
   "file_extension": ".py",
   "mimetype": "text/x-python",
   "name": "python",
   "nbconvert_exporter": "python",
   "pygments_lexer": "ipython3",
   "version": "3.6.4"
  }
 },
 "nbformat": 4,
 "nbformat_minor": 2
}
