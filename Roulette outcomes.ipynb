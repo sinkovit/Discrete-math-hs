{
 "cells": [
  {
   "cell_type": "markdown",
   "metadata": {},
   "source": [
    "# Roulette outcomes"
   ]
  },
  {
   "cell_type": "markdown",
   "metadata": {},
   "source": [
    "In this exercise, we'll explore the fortunes of someone playing a roulette game using a wheel that contains the numbers 1-36. We'll then look at the effect of including the zero and double-zero that push the odds in the house's favor."
   ]
  },
  {
   "cell_type": "code",
   "execution_count": 2,
   "metadata": {},
   "outputs": [
    {
     "data": {
      "text/plain": [
       "'module://ipykernel.pylab.backend_inline'"
      ]
     },
     "execution_count": 2,
     "metadata": {},
     "output_type": "execute_result"
    }
   ],
   "source": [
    "# Loading modules and setting up environment\n",
    "%matplotlib inline\n",
    "import matplotlib as mpl\n",
    "import matplotlib.pyplot as plt\n",
    "import numpy as np\n",
    "import copy\n",
    "from collections import Counter\n",
    "from collections import OrderedDict\n",
    "\n",
    "# Load Widgets for GUI\n",
    "from ipywidgets import widgets\n",
    "from ipywidgets import interact, IntSlider\n",
    "from IPython.display import display\n",
    "\n",
    "mpl.get_backend()"
   ]
  },
  {
   "cell_type": "markdown",
   "metadata": {},
   "source": [
    "Roulette has multiple betting strategies, but we'll restrict ourselve to two of them\n",
    "\n",
    "+ Betting on even/odd - pays 2x (original bet + like amount) on win\n",
    "+ Betting on a single number - pays 36x (original bet + 35x) on a win\n",
    "\n",
    "So that we can easily handle the zero and double-zero later in this exercise, we'll work with strings rather than integers and write the smaller numbers with leading zero."
   ]
  },
  {
   "cell_type": "code",
   "execution_count": 3,
   "metadata": {},
   "outputs": [],
   "source": [
    "bins_nozero = ['01', '02', '03', '04', '05', '06', '07', '08', '09', '10',\n",
    "               '11', '12', '13', '14', '15', '16', '17', '18', '19', '20',\n",
    "               '21', '22', '23', '24', '25', '26', '27', '28', '29', '30',\n",
    "               '31', '32', '33', '34', '35', '36']\n",
    "bins_zero = copy.copy(bins_nozero)\n",
    "bins_zero.append('0')\n",
    "bins_dzero = copy.copy(bins_zero)\n",
    "bins_dzero.append('00')"
   ]
  },
  {
   "cell_type": "markdown",
   "metadata": {},
   "source": [
    "So what's the deal with the zero and double zero? Why does it matter? Although it doesn't seem like much, it pushes the odds slightly in the house's favor. The payoffs remain the same, but your chances of winning go down.\n",
    "\n",
    "+ even/odd strategy - the zero and double zero are not counted as even numbers. Your chance of winning is now 18/37 = 0.4865 (w/ zero) and 18/38 = 0.4739 (w/ double zero)\n",
    "+ single number strategy - can choose any number, including zero or double zero, but odds of winning are now 1/37 or 1/38 instead of 1/36.\n",
    "\n",
    "Before we get started with our game, let's generate some spins and convince ourselves that the wheel at least looks fair."
   ]
  },
  {
   "cell_type": "code",
   "execution_count": 4,
   "metadata": {},
   "outputs": [
    {
     "data": {
      "application/vnd.jupyter.widget-view+json": {
       "model_id": "da4d4f3cf47041209054e757df5eb831",
       "version_major": 2,
       "version_minor": 0
      },
      "text/plain": [
       "interactive(children=(Dropdown(description='range', options=(('100', 100), ('1000', 1000), ('100000', 100000),…"
      ]
     },
     "metadata": {},
     "output_type": "display_data"
    }
   ],
   "source": [
    "# nspins = number of spins\n",
    "def spin(spins_num, bin_type):\n",
    "    nspins = spins_num\n",
    "\n",
    "    # Select a wheel (uncomment one of the following)\n",
    "    #bins = bins_nozero\n",
    "    #bins = bins_zero\n",
    "    bins = bins_dzero\n",
    "\n",
    "    spins = np.random.choice(bins, size=nspins)\n",
    "    od = OrderedDict(sorted(Counter(spins).items()))\n",
    "    print('Minimum count = ', min(od.values()))\n",
    "    print('Maximum count = ', max(od.values()))\n",
    "    print('Min/Max = ', min(od.values())/max(od.values()))\n",
    "\n",
    "    labels = od.keys()\n",
    "    counts = od.values()\n",
    "\n",
    "    f, ax = plt.subplots(1, 1, figsize=(12,4))\n",
    "    x_pos = np.arange(len(labels))\n",
    "    ax.bar(x_pos, counts, align='center')\n",
    "    ax.set_xticks(x_pos)\n",
    "    ax.set_xticklabels(labels)\n",
    "    ax.set_ylabel('Roulette spins by bin value')\n",
    "    ax.set_title('Roulette result counts')\n",
    "    plt.show()\n",
    "    \n",
    "# Second function after inputed range. User chooses spins_num through slider and bin_type through dropdown\n",
    "def spin_with_range(range):\n",
    "    if range <= 100:\n",
    "        interact(spin, spins_num=IntSlider(min=1,max=range,step=1,continuous_update=False), \\\n",
    "                 bin_type=[('bins_dzero', bins_dzero),('bins_zero', bins_zero), ('bins_nozero', bins_nozero)]\n",
    "                )\n",
    "    elif range <= 1000:\n",
    "        interact(spin, spins_num=IntSlider(min=10,max=range,step=10,continuous_update=False), \\\n",
    "                 bin_type=[('bins_dzero', bins_dzero),('bins_zero', bins_zero), ('bins_nozero', bins_nozero)]\n",
    "                )\n",
    "    else:\n",
    "        interact(spin, spins_num=IntSlider(min=1000,max=range,step=1000, continuous_update=False), \\\n",
    "                 bin_type=[('bins_dzero', bins_dzero),('bins_zero', bins_zero), ('bins_nozero', bins_nozero)],\\\n",
    "                 )\n",
    "# User chooses the range of the number of spins        \n",
    "interact(spin_with_range, range=[('100', 100), ('1000', 1000), ('100000', 100000), ('1000000', 1000000)]);"
   ]
  },
  {
   "cell_type": "markdown",
   "metadata": {},
   "source": [
    "Now that we've setup our roulette wheel and convinced ourselves that it's working properly. Let's pretend that we're at the casino and see how our fortunes change over time. To simplify our code, we'll assume that you always select 'even' when using the even/odd strategy and '1' when selecting a single number. This is justified since all spins occur with equal probability."
   ]
  },
  {
   "cell_type": "code",
   "execution_count": 5,
   "metadata": {},
   "outputs": [
    {
     "data": {
      "application/vnd.jupyter.widget-view+json": {
       "model_id": "fae4846b0d5044359ff6ba72262040d9",
       "version_major": 2,
       "version_minor": 0
      },
      "text/plain": [
       "interactive(children=(Dropdown(description='range', options=(('100', 100), ('1000', 1000), ('100000', 100000),…"
      ]
     },
     "metadata": {},
     "output_type": "display_data"
    }
   ],
   "source": [
    "# nspins = number of spins\n",
    "def graph_roulette_spins(num_spins):\n",
    "    nspins = num_spins\n",
    "\n",
    "    # Strategies (uncomment one of the following)\n",
    "    #strategy = 'even' # Win on 2, 4, 6, ... 36 but not 0 or 00\n",
    "    strategy = 'single' # Win by picking any single number, including 0 or 00\n",
    "\n",
    "    if strategy == 'even':\n",
    "        payoff = 1  # Original bet plus 1\n",
    "    elif strategy == 'single':\n",
    "        payoff = 35 # original bet plus 35\n",
    "\n",
    "    # Select a wheel (uncomment one of the following)\n",
    "    #bins = bins_nozero\n",
    "    #bins = bins_zero\n",
    "    bins = bins_dzero\n",
    "\n",
    "    balance = [0]\n",
    "    spins = np.random.choice(bins, size=nspins)\n",
    "    for spin in spins:\n",
    "        if strategy == 'even':\n",
    "            if int(spin) % 2 == 0 and int(spin) != 0:\n",
    "                balance.append(balance[-1]+1)\n",
    "            else:\n",
    "                balance.append(balance[-1]-1)\n",
    "        if strategy == 'single':\n",
    "            if int(spin) == 1:\n",
    "                balance.append(balance[-1]+35)\n",
    "            else:\n",
    "                balance.append(balance[-1]-1)\n",
    "\n",
    "    if balance[-1] > 0:\n",
    "        print(\"Win\")\n",
    "    elif balance[-1] < 0:\n",
    "        print(\"Lose\")\n",
    "    else:\n",
    "        print(\"Tie\")\n",
    "\n",
    "    x = range(nspins+1)\n",
    "    xzero = [0, nspins]\n",
    "    yzero = [0, 0]\n",
    "        \n",
    "    f, ax = plt.subplots(1, 1, figsize=(12,4))\n",
    "    ax.plot(x, balance, xzero, yzero, '--')\n",
    "    ax.set_ylabel('Balance')\n",
    "    ax.set_xlabel('Spin number')\n",
    "    ax.set_title('Balance as function of spins: strategy = ' + strategy)\n",
    "    plt.show()\n",
    "    \n",
    "# Second function after range chosen. User-inputed number of spins\n",
    "def spin_with_range(range):\n",
    "    if range <= 100:\n",
    "        interact(graph_roulette_spins, num_spins=IntSlider(min=1, max=range, step=1,continuous_update=False))\n",
    "    elif range <= 1000:\n",
    "        interact(graph_roulette_spins, num_spins=IntSlider(min=10, max=range, step=10,continuous_update=False))\n",
    "    else:\n",
    "        interact(graph_roulette_spins, num_spins=IntSlider(min=10000, max=range, step=10000,continuous_update=False))\n",
    "\n",
    "# User chooses the range of the number of spins         \n",
    "interact(spin_with_range, range=[('100', 100), ('1000', 1000), ('100000', 100000), ('1000000', 1000000)]);"
   ]
  },
  {
   "cell_type": "markdown",
   "metadata": {},
   "source": [
    "See if there is a cleaner way to add a zero line to the graph"
   ]
  },
  {
   "cell_type": "code",
   "execution_count": null,
   "metadata": {},
   "outputs": [],
   "source": []
  }
 ],
 "metadata": {
  "kernelspec": {
   "display_name": "Python 3",
   "language": "python",
   "name": "python3"
  },
  "language_info": {
   "codemirror_mode": {
    "name": "ipython",
    "version": 3
   },
   "file_extension": ".py",
   "mimetype": "text/x-python",
   "name": "python",
   "nbconvert_exporter": "python",
   "pygments_lexer": "ipython3",
   "version": "3.7.1"
  }
 },
 "nbformat": 4,
 "nbformat_minor": 2
}
