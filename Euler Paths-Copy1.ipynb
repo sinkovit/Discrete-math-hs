{
 "cells": [
  {
   "cell_type": "code",
   "execution_count": 2,
   "metadata": {},
   "outputs": [],
   "source": [
    "# Import networkx to create graphs and motplotlib to graph\n",
    "import networkx as nx\n",
    "import matplotlib.pyplot as plt\n",
    "import operator\n",
    "from numpy import random\n",
    "\n",
    "# Import interact for user input\n",
    "from ipywidgets import widgets\n",
    "from ipywidgets import interact, interactive, IntSlider\n",
    "from IPython.display import display"
   ]
  },
  {
   "cell_type": "code",
   "execution_count": 3,
   "metadata": {},
   "outputs": [
    {
     "data": {
      "application/vnd.jupyter.widget-view+json": {
       "model_id": "13a9558504d349ceb3ee8f0c89ff4fdb",
       "version_major": 2,
       "version_minor": 0
      },
      "text/plain": [
       "interactive(children=(Dropdown(description='function', options=('Erdos Renyi', 'Watts Strogatz'), value='Erdos…"
      ]
     },
     "metadata": {},
     "output_type": "display_data"
    }
   ],
   "source": [
    "# generate a random directed graph\n",
    "\n",
    "def show_node_path(eulerized):\n",
    "    # get eulerian order\n",
    "    edges = nx.eulerian_circuit(eulerized)\n",
    "    edges = list(edges)\n",
    "    new_graph = nx.DiGraph()\n",
    "    for i in range(len(edges)):\n",
    "        new_graph.add_edge(edges[i][0], edges[i][1], weight = i)\n",
    "    edges_labels = dict([((u,v), d['weight']) for u,v,d in new_graph.edges(data=True)])\n",
    "    sorted_labels = sorted(edges_labels.items(), key = operator.itemgetter(1))\n",
    "    \n",
    "    print(sorted_labels)\n",
    "    return sorted_labels\n",
    "\n",
    "def create_erdos_renyi(num_nodes):\n",
    "    # randomly generate the nodes and edge probability\n",
    "#     rand_num_nodes = random.randint(1, rand_max)\n",
    "#     rand_prob = random.random()\n",
    "    # create a random erdos renyi graph\n",
    "    non_directed_graph = nx.erdos_renyi_graph(num_nodes, 0.9)\n",
    "    \n",
    "    count = 0\n",
    "    while count < 50 or not nx.is_eulerian(non_directed_graph):\n",
    "        non_directed_graph = nx.erdos_renyi_graph(num_nodes, 0.9)\n",
    "        count += 1\n",
    "    if nx.is_eulerian(non_directed_graph):\n",
    "        # create directed version of barabasi albert\n",
    "        eulerized = nx.eulerize(non_directed_graph)\n",
    "        di_euler_graph = nx.DiGraph()\n",
    "        di_euler_graph.add_nodes_from(eulerized)\n",
    "        di_euler_graph.add_edges_from(nx.eulerian_circuit(eulerized))\n",
    "        color_map = ['green' if node == 0 else 'red' for node in di_euler_graph]\n",
    "        sorted_labels = show_node_path(eulerized)\n",
    "        \n",
    "        labeldict = {}\n",
    "        for i in di_euler_graph.nodes:\n",
    "            lst = []\n",
    "            for j in range(len(sorted_labels)):\n",
    "                if sorted_labels[j][0][0] == i:\n",
    "                    lst.append(sorted_labels[j][1])\n",
    "            labeldict[i] = lst\n",
    "        \n",
    "        nx.draw(di_euler_graph, node_color = color_map, labels=labeldict, with_labels=True, font_weight='bold')\n",
    "        print(\"Is Eulerian?: \" + str(nx.is_eulerian(di_euler_graph)))\n",
    "        \n",
    "        \n",
    "        \n",
    "    else: # if not eulerian print not eulerian\n",
    "        print(\"Is Eulerian?: \" + str(nx.is_eulerian(non_directed_graph)))\n",
    "    \n",
    "def create_watts_strogatz_graph(num_nodes):\n",
    "    # randomly generate the nodes and edge probability\n",
    "#     rand_num_nodes = random.randint(3, rand_max)\n",
    "#     rand_neighbors = 0\n",
    "#     if rand_num_nodes > 3:\n",
    "#         rand_neighbors = random.randint(2, rand_num_nodes-1)\n",
    "#     else:\n",
    "#         rand_neighbors = 2\n",
    "#     rand_prob = random.random()\n",
    "    # create a random erdos renyi graph\n",
    "    non_directed_graph = nx.watts_strogatz_graph(num_nodes, num_nodes-1, 0.9)\n",
    "    \n",
    "    count = 0\n",
    "    while count < 50 or not nx.is_eulerian(non_directed_graph):\n",
    "        non_directed_graph = nx.watts_strogatz_graph(num_nodes, num_nodes-1, 0.9)\n",
    "        count += 1\n",
    "    if nx.is_eulerian(non_directed_graph):\n",
    "        # create directed version of barabasi albert\n",
    "        eulerized = nx.eulerize(non_directed_graph)\n",
    "        di_euler_graph = nx.DiGraph()\n",
    "        di_euler_graph.add_nodes_from(eulerized)\n",
    "        di_euler_graph.add_edges_from(nx.eulerian_circuit(eulerized))\n",
    "        color_map = ['green' if node == 0 else 'red' for node in di_euler_graph]\n",
    "        nx.draw(di_euler_graph, node_color = color_map, with_labels=True, font_weight='bold')\n",
    "        print(\"Is Eulerian?: \" + str(nx.is_eulerian(di_euler_graph)))\n",
    "        show_node_path(eulerized)\n",
    "    else:\n",
    "        print(\"Is Eulerian?: \" + str(nx.is_eulerian(non_directed_graph)))\n",
    "        \n",
    "def choose_graph(function):\n",
    "    if function == 'Erdos Renyi':\n",
    "        interact(create_erdos_renyi, num_nodes=[('5', 5), ('10', 15), ('15', 15)])\n",
    "    elif function == 'Watts Strogatz':\n",
    "        interact(create_watts_strogatz_graph, num_nodes=[('5', 5), ('10', 10), ('25', 25)])\n",
    "\n",
    "w = interactive(choose_graph, function=['Erdos Renyi', 'Watts Strogatz'])\n",
    "display(w)"
   ]
  },
  {
   "cell_type": "code",
   "execution_count": null,
   "metadata": {},
   "outputs": [],
   "source": [
    "# import a previous euler path\n"
   ]
  },
  {
   "cell_type": "code",
   "execution_count": null,
   "metadata": {},
   "outputs": [],
   "source": []
  }
 ],
 "metadata": {
  "kernelspec": {
   "display_name": "Python 3",
   "language": "python",
   "name": "python3"
  },
  "language_info": {
   "codemirror_mode": {
    "name": "ipython",
    "version": 3
   },
   "file_extension": ".py",
   "mimetype": "text/x-python",
   "name": "python",
   "nbconvert_exporter": "python",
   "pygments_lexer": "ipython3",
   "version": "3.7.1"
  }
 },
 "nbformat": 4,
 "nbformat_minor": 2
}
