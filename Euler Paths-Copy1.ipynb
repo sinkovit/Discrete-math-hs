{
 "cells": [
  {
   "cell_type": "code",
   "execution_count": 9,
   "metadata": {},
   "outputs": [],
   "source": [
    "# Import networkx to create graphs and motplotlib to graph\n",
    "import networkx as nx\n",
    "import matplotlib.pyplot as plt\n",
    "import operator\n",
    "\n",
    "# Import interact for user input\n",
    "from ipywidgets import widgets\n",
    "from ipywidgets import interact, interactive, IntSlider\n",
    "from IPython.display import display"
   ]
  },
  {
   "cell_type": "code",
   "execution_count": 10,
   "metadata": {},
   "outputs": [],
   "source": [
    "# Import file from directory\n",
    "%load_ext autoreload\n",
    "%autoreload 2"
   ]
  },
  {
   "cell_type": "code",
   "execution_count": 11,
   "metadata": {},
   "outputs": [
    {
     "data": {
      "application/vnd.jupyter.widget-view+json": {
       "model_id": "240cbdb0dec94bb29113474c4d0c0af2",
       "version_major": 2,
       "version_minor": 0
      },
      "text/plain": [
       "interactive(children=(Dropdown(description='function', options=('Erdos Renyi', 'Watts Strogatz'), value='Erdos…"
      ]
     },
     "metadata": {},
     "output_type": "display_data"
    }
   ],
   "source": [
    "import euler_funcs as ef\n",
    "\n",
    "\n",
    "        \n",
    "def choose_graph(function):\n",
    "    if function == 'Erdos Renyi':\n",
    "        interact(ef.create_erdos_renyi, num_nodes=[('5', 5), ('10', 15), ('15', 15)])\n",
    "    elif function == 'Watts Strogatz':\n",
    "        interact(ef.create_watts_strogatz_graph, num_nodes=[('5', 5), ('10', 10), ('25', 25)])\n",
    "\n",
    "w = interactive(choose_graph, function=['Erdos Renyi', 'Watts Strogatz'])\n",
    "display(w)"
   ]
  },
  {
   "cell_type": "code",
   "execution_count": null,
   "metadata": {},
   "outputs": [],
   "source": [
    "# import a previous euler path\n"
   ]
  },
  {
   "cell_type": "code",
   "execution_count": null,
   "metadata": {},
   "outputs": [],
   "source": []
  }
 ],
 "metadata": {
  "kernelspec": {
   "display_name": "Python 3",
   "language": "python",
   "name": "python3"
  },
  "language_info": {
   "codemirror_mode": {
    "name": "ipython",
    "version": 3
   },
   "file_extension": ".py",
   "mimetype": "text/x-python",
   "name": "python",
   "nbconvert_exporter": "python",
   "pygments_lexer": "ipython3",
   "version": "3.7.1"
  }
 },
 "nbformat": 4,
 "nbformat_minor": 2
}
